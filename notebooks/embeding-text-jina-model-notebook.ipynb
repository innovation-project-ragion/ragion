{
 "cells": [
  {
   "cell_type": "code",
   "execution_count": 1,
   "metadata": {},
   "outputs": [
    {
     "name": "stdout",
     "output_type": "stream",
     "text": [
      "Requirement already satisfied: pymilvus in /opt/conda/lib/python3.11/site-packages (2.4.7)\n",
      "Requirement already satisfied: setuptools>69 in /opt/conda/lib/python3.11/site-packages (from pymilvus) (75.1.0)\n",
      "Requirement already satisfied: grpcio>=1.49.1 in /opt/conda/lib/python3.11/site-packages (from pymilvus) (1.66.2)\n",
      "Requirement already satisfied: protobuf>=3.20.0 in /opt/conda/lib/python3.11/site-packages (from pymilvus) (5.28.2)\n",
      "Requirement already satisfied: environs<=9.5.0 in /opt/conda/lib/python3.11/site-packages (from pymilvus) (9.5.0)\n",
      "Requirement already satisfied: ujson>=2.0.0 in /opt/conda/lib/python3.11/site-packages (from pymilvus) (5.10.0)\n",
      "Requirement already satisfied: pandas>=1.2.4 in /opt/conda/lib/python3.11/site-packages (from pymilvus) (2.2.3)\n",
      "Requirement already satisfied: milvus-lite<2.5.0,>=2.4.0 in /opt/conda/lib/python3.11/site-packages (from pymilvus) (2.4.10)\n",
      "Requirement already satisfied: marshmallow>=3.0.0 in /opt/conda/lib/python3.11/site-packages (from environs<=9.5.0->pymilvus) (3.22.0)\n",
      "Requirement already satisfied: python-dotenv in /opt/conda/lib/python3.11/site-packages (from environs<=9.5.0->pymilvus) (1.0.1)\n",
      "Requirement already satisfied: tqdm in /opt/conda/lib/python3.11/site-packages (from milvus-lite<2.5.0,>=2.4.0->pymilvus) (4.66.5)\n",
      "Requirement already satisfied: numpy>=1.23.2 in /opt/conda/lib/python3.11/site-packages (from pandas>=1.2.4->pymilvus) (1.26.4)\n",
      "Requirement already satisfied: python-dateutil>=2.8.2 in /opt/conda/lib/python3.11/site-packages (from pandas>=1.2.4->pymilvus) (2.9.0.post0)\n",
      "Requirement already satisfied: pytz>=2020.1 in /opt/conda/lib/python3.11/site-packages (from pandas>=1.2.4->pymilvus) (2024.2)\n",
      "Requirement already satisfied: tzdata>=2022.7 in /opt/conda/lib/python3.11/site-packages (from pandas>=1.2.4->pymilvus) (2024.2)\n",
      "Requirement already satisfied: packaging>=17.0 in /opt/conda/lib/python3.11/site-packages (from marshmallow>=3.0.0->environs<=9.5.0->pymilvus) (24.1)\n",
      "Requirement already satisfied: six>=1.5 in /opt/conda/lib/python3.11/site-packages (from python-dateutil>=2.8.2->pandas>=1.2.4->pymilvus) (1.16.0)\n",
      "Note: you may need to restart the kernel to use updated packages.\n",
      "Requirement already satisfied: numpy!=1.24.0 in /opt/conda/lib/python3.11/site-packages (1.26.4)\n",
      "Requirement already satisfied: seaborn in /opt/conda/lib/python3.11/site-packages (0.13.0)\n",
      "Requirement already satisfied: pandas>=1.2 in /opt/conda/lib/python3.11/site-packages (from seaborn) (2.2.3)\n",
      "Requirement already satisfied: matplotlib!=3.6.1,>=3.3 in /opt/conda/lib/python3.11/site-packages (from seaborn) (3.8.0)\n",
      "Requirement already satisfied: contourpy>=1.0.1 in /opt/conda/lib/python3.11/site-packages (from matplotlib!=3.6.1,>=3.3->seaborn) (1.1.1)\n",
      "Requirement already satisfied: cycler>=0.10 in /opt/conda/lib/python3.11/site-packages (from matplotlib!=3.6.1,>=3.3->seaborn) (0.12.1)\n",
      "Requirement already satisfied: fonttools>=4.22.0 in /opt/conda/lib/python3.11/site-packages (from matplotlib!=3.6.1,>=3.3->seaborn) (4.43.1)\n",
      "Requirement already satisfied: kiwisolver>=1.0.1 in /opt/conda/lib/python3.11/site-packages (from matplotlib!=3.6.1,>=3.3->seaborn) (1.4.5)\n",
      "Requirement already satisfied: packaging>=20.0 in /opt/conda/lib/python3.11/site-packages (from matplotlib!=3.6.1,>=3.3->seaborn) (24.1)\n",
      "Requirement already satisfied: pillow>=6.2.0 in /opt/conda/lib/python3.11/site-packages (from matplotlib!=3.6.1,>=3.3->seaborn) (10.4.0)\n",
      "Requirement already satisfied: pyparsing>=2.3.1 in /opt/conda/lib/python3.11/site-packages (from matplotlib!=3.6.1,>=3.3->seaborn) (3.1.1)\n",
      "Requirement already satisfied: python-dateutil>=2.7 in /opt/conda/lib/python3.11/site-packages (from matplotlib!=3.6.1,>=3.3->seaborn) (2.9.0.post0)\n",
      "Requirement already satisfied: pytz>=2020.1 in /opt/conda/lib/python3.11/site-packages (from pandas>=1.2->seaborn) (2024.2)\n",
      "Requirement already satisfied: tzdata>=2022.7 in /opt/conda/lib/python3.11/site-packages (from pandas>=1.2->seaborn) (2024.2)\n",
      "Requirement already satisfied: six>=1.5 in /opt/conda/lib/python3.11/site-packages (from python-dateutil>=2.7->matplotlib!=3.6.1,>=3.3->seaborn) (1.16.0)\n",
      "Note: you may need to restart the kernel to use updated packages.\n",
      "Requirement already satisfied: pymilvus in /opt/conda/lib/python3.11/site-packages (2.4.7)\n",
      "Requirement already satisfied: transformers in /opt/conda/lib/python3.11/site-packages (4.45.1)\n",
      "Requirement already satisfied: torch in /opt/conda/lib/python3.11/site-packages (2.4.1)\n",
      "Requirement already satisfied: setuptools>69 in /opt/conda/lib/python3.11/site-packages (from pymilvus) (75.1.0)\n",
      "Requirement already satisfied: grpcio>=1.49.1 in /opt/conda/lib/python3.11/site-packages (from pymilvus) (1.66.2)\n",
      "Requirement already satisfied: protobuf>=3.20.0 in /opt/conda/lib/python3.11/site-packages (from pymilvus) (5.28.2)\n",
      "Requirement already satisfied: environs<=9.5.0 in /opt/conda/lib/python3.11/site-packages (from pymilvus) (9.5.0)\n",
      "Requirement already satisfied: ujson>=2.0.0 in /opt/conda/lib/python3.11/site-packages (from pymilvus) (5.10.0)\n",
      "Requirement already satisfied: pandas>=1.2.4 in /opt/conda/lib/python3.11/site-packages (from pymilvus) (2.2.3)\n",
      "Requirement already satisfied: milvus-lite<2.5.0,>=2.4.0 in /opt/conda/lib/python3.11/site-packages (from pymilvus) (2.4.10)\n",
      "Requirement already satisfied: filelock in /opt/conda/lib/python3.11/site-packages (from transformers) (3.16.1)\n",
      "Requirement already satisfied: huggingface-hub<1.0,>=0.23.2 in /opt/conda/lib/python3.11/site-packages (from transformers) (0.25.1)\n",
      "Requirement already satisfied: numpy>=1.17 in /opt/conda/lib/python3.11/site-packages (from transformers) (1.26.4)\n",
      "Requirement already satisfied: packaging>=20.0 in /opt/conda/lib/python3.11/site-packages (from transformers) (24.1)\n",
      "Requirement already satisfied: pyyaml>=5.1 in /opt/conda/lib/python3.11/site-packages (from transformers) (6.0.2)\n",
      "Requirement already satisfied: regex!=2019.12.17 in /opt/conda/lib/python3.11/site-packages (from transformers) (2024.9.11)\n",
      "Requirement already satisfied: requests in /opt/conda/lib/python3.11/site-packages (from transformers) (2.32.3)\n",
      "Requirement already satisfied: safetensors>=0.4.1 in /opt/conda/lib/python3.11/site-packages (from transformers) (0.4.5)\n",
      "Requirement already satisfied: tokenizers<0.21,>=0.20 in /opt/conda/lib/python3.11/site-packages (from transformers) (0.20.0)\n",
      "Requirement already satisfied: tqdm>=4.27 in /opt/conda/lib/python3.11/site-packages (from transformers) (4.66.5)\n",
      "Requirement already satisfied: typing-extensions>=4.8.0 in /opt/conda/lib/python3.11/site-packages (from torch) (4.12.2)\n",
      "Requirement already satisfied: sympy in /opt/conda/lib/python3.11/site-packages (from torch) (1.13.3)\n",
      "Requirement already satisfied: networkx in /opt/conda/lib/python3.11/site-packages (from torch) (3.3)\n",
      "Requirement already satisfied: jinja2 in /opt/conda/lib/python3.11/site-packages (from torch) (3.1.4)\n",
      "Requirement already satisfied: fsspec in /opt/conda/lib/python3.11/site-packages (from torch) (2024.9.0)\n",
      "Requirement already satisfied: marshmallow>=3.0.0 in /opt/conda/lib/python3.11/site-packages (from environs<=9.5.0->pymilvus) (3.22.0)\n",
      "Requirement already satisfied: python-dotenv in /opt/conda/lib/python3.11/site-packages (from environs<=9.5.0->pymilvus) (1.0.1)\n",
      "Requirement already satisfied: python-dateutil>=2.8.2 in /opt/conda/lib/python3.11/site-packages (from pandas>=1.2.4->pymilvus) (2.9.0.post0)\n",
      "Requirement already satisfied: pytz>=2020.1 in /opt/conda/lib/python3.11/site-packages (from pandas>=1.2.4->pymilvus) (2024.2)\n",
      "Requirement already satisfied: tzdata>=2022.7 in /opt/conda/lib/python3.11/site-packages (from pandas>=1.2.4->pymilvus) (2024.2)\n",
      "Requirement already satisfied: MarkupSafe>=2.0 in /opt/conda/lib/python3.11/site-packages (from jinja2->torch) (2.1.5)\n",
      "Requirement already satisfied: charset-normalizer<4,>=2 in /opt/conda/lib/python3.11/site-packages (from requests->transformers) (3.3.2)\n",
      "Requirement already satisfied: idna<4,>=2.5 in /opt/conda/lib/python3.11/site-packages (from requests->transformers) (3.10)\n",
      "Requirement already satisfied: urllib3<3,>=1.21.1 in /opt/conda/lib/python3.11/site-packages (from requests->transformers) (2.2.3)\n",
      "Requirement already satisfied: certifi>=2017.4.17 in /opt/conda/lib/python3.11/site-packages (from requests->transformers) (2024.8.30)\n",
      "Requirement already satisfied: mpmath<1.4,>=1.1.0 in /opt/conda/lib/python3.11/site-packages (from sympy->torch) (1.3.0)\n",
      "Requirement already satisfied: six>=1.5 in /opt/conda/lib/python3.11/site-packages (from python-dateutil>=2.8.2->pandas>=1.2.4->pymilvus) (1.16.0)\n",
      "Note: you may need to restart the kernel to use updated packages.\n"
     ]
    }
   ],
   "source": [
    "## this notebook is using Jina Model to avoid using jina api and use jina model locally\n",
    "%pip install --upgrade pymilvus\n",
    "%pip install numpy!=1.24.0 seaborn \n",
    "%pip install pymilvus transformers torch\n",
    "\n",
    "# Import necessary libraries\n",
    "import os\n",
    "from pymilvus import connections, Collection, utility, CollectionSchema, FieldSchema, DataType\n",
    "from transformers import AutoTokenizer, AutoModel\n",
    "import torch\n",
    "import numpy as np\n",
    "import itertools\n",
    "#import pdfplumber"
   ]
  },
  {
   "cell_type": "code",
   "execution_count": 2,
   "metadata": {},
   "outputs": [
    {
     "name": "stdout",
     "output_type": "stream",
     "text": [
      "Connected to Milvus at milvus-standalone:19530\n"
     ]
    }
   ],
   "source": [
    "# Connect to Milvus (Hardcoded Values)\n",
    "MILVUS_HOST = \"milvus-standalone\"\n",
    "MILVUS_PORT = \"19530\"\n",
    "MILVUS_ALIAS = \"default\"    \n",
    "def connect_milvus():\n",
    "    try:\n",
    "        connections.connect(\n",
    "            alias=MILVUS_ALIAS,\n",
    "            host=MILVUS_HOST,\n",
    "            port=MILVUS_PORT\n",
    "        )\n",
    "        print(f\"Connected to Milvus at {MILVUS_HOST}:{MILVUS_PORT}\")\n",
    "    except Exception as e:\n",
    "        print(f\"Failed to connect to Milvus: {e}\")\n",
    "\n",
    "def disconnect_milvus():\n",
    "    try:\n",
    "        connections.disconnect(MILVUS_ALIAS)\n",
    "        print(\"Disconnected from Milvus\")\n",
    "    except Exception as e:\n",
    "        print(f\"Failed to disconnect: {e}\")\n",
    "\n",
    "# Connect to Milvus\n",
    "connect_milvus()"
   ]
  },
  {
   "cell_type": "code",
   "execution_count": 3,
   "metadata": {},
   "outputs": [],
   "source": [
    "def create_document_schema():\n",
    "    fields = [\n",
    "        FieldSchema(name=\"doc_id\", dtype=DataType.VARCHAR, max_length=100),\n",
    "        FieldSchema(name=\"chunk_id\", dtype=DataType.INT64, is_primary=True, auto_id=True),\n",
    "        FieldSchema(name=\"embedding\", dtype=DataType.FLOAT_VECTOR, dim=768),  # Adjust dimension based on model\n",
    "        FieldSchema(name=\"text\", dtype=DataType.VARCHAR, max_length=65535)\n",
    "    ]\n",
    "    schema = CollectionSchema(fields=fields, description=\"Document embeddings\")\n",
    "    return schema"
   ]
  },
  {
   "cell_type": "code",
   "execution_count": 4,
   "metadata": {},
   "outputs": [
    {
     "name": "stdout",
     "output_type": "stream",
     "text": [
      "Collection 'document_embeddings' and index created!\n"
     ]
    }
   ],
   "source": [
    "# Create Milvus Collection\n",
    "def create_document_schema():\n",
    "    fields = [\n",
    "        FieldSchema(name=\"doc_id\", dtype=DataType.VARCHAR, max_length=100),\n",
    "        FieldSchema(name=\"chunk_id\", dtype=DataType.INT64, is_primary=True, auto_id=True),\n",
    "        FieldSchema(name=\"embedding\", dtype=DataType.FLOAT_VECTOR, dim=384),  # 384 based on the model output\n",
    "        FieldSchema(name=\"text\", dtype=DataType.VARCHAR, max_length=65535)\n",
    "    ]\n",
    "    schema = CollectionSchema(fields=fields, description=\"Document embeddings\")\n",
    "    return schema\n",
    "\n",
    "def create_document_collection():\n",
    "    schema = create_document_schema()\n",
    "    collection_name = \"document_embeddings\"\n",
    "    \n",
    "    if not utility.has_collection(collection_name):\n",
    "        collection = Collection(name=collection_name, schema=schema)\n",
    "        index_params = {\n",
    "            \"index_type\": \"IVF_FLAT\",\n",
    "            \"metric_type\": \"IP\",\n",
    "            \"params\": {\"nlist\": 1024}\n",
    "        }\n",
    "        collection.create_index(field_name=\"embedding\", index_params=index_params)\n",
    "        print(f\"Collection '{collection_name}' and index created!\")\n",
    "    else:\n",
    "        collection = Collection(name=collection_name)\n",
    "        print(f\"Collection '{collection_name}' already exists.\")\n",
    "    \n",
    "    collection.load()\n",
    "    return collection\n",
    "\n",
    "# Create the collection\n",
    "collection = create_document_collection()\n"
   ]
  },
  {
   "cell_type": "code",
   "execution_count": 5,
   "metadata": {},
   "outputs": [],
   "source": [
    "#load model and tokenizer locally (using a Hugging Face model)\n",
    "model_name = \"sentence-transformers/all-MiniLM-L6-v2\"  # Change to your preferred model\n",
    "#tokenizer = AutoTokenizer.from_pretrained(model_name)\n",
    "tokenizer = AutoTokenizer.from_pretrained(model_name, clean_up_tokenization_spaces=False)\n",
    "model = AutoModel.from_pretrained(model_name)\n",
    "\n",
    "# Function to batch the inputs\n",
    "def batched(iterable, n):\n",
    "    it = iter(iterable)\n",
    "    while batch := list(itertools.islice(it, n)):\n",
    "        yield batch\n",
    "\n",
    "# Generate embeddings locally\n",
    "def generate_embeddings_local(texts, max_batch_size=32):\n",
    "    embeddings = []\n",
    "    for batch in batched(texts, max_batch_size):\n",
    "        inputs = tokenizer(batch, padding=True, truncation=True, return_tensors=\"pt\")\n",
    "        with torch.no_grad():\n",
    "            outputs = model(**inputs)\n",
    "        batch_embeddings = outputs.last_hidden_state.mean(dim=1)\n",
    "        embeddings.append(batch_embeddings)\n",
    "    \n",
    "    # Normalize embeddings\n",
    "    embeddings = torch.cat(embeddings)\n",
    "    embeddings = embeddings / torch.norm(embeddings, dim=1, keepdim=True)\n",
    "    return embeddings.numpy()"
   ]
  },
  {
   "cell_type": "code",
   "execution_count": null,
   "metadata": {},
   "outputs": [],
   "source": [
    "# Load text from PDF for now we are not using the pdf since we are inserting just dummy data\n",
    "#def load_pdf(file_path):\n",
    "    #with pdfplumber.open(file_path) as pdf:\n",
    "        #text = \"\"\n",
    "        #for page in pdf.pages:\n",
    "            #text += page.extract_text()\n",
    "    #return text"
   ]
  },
  {
   "cell_type": "code",
   "execution_count": 6,
   "metadata": {},
   "outputs": [],
   "source": [
    "# Insert document embeddings into Milvus\n",
    "def insert_data_into_collection(collection, doc_ids, embeddings, texts):\n",
    "    try:\n",
    "        entities = [doc_ids, embeddings, texts]\n",
    "        collection.insert(entities)\n",
    "        print(f\"Data inserted into collection: {collection.name}\")\n",
    "    except Exception as e:\n",
    "        print(f\"Failed to insert data: {e}\")"
   ]
  },
  {
   "cell_type": "code",
   "execution_count": 7,
   "metadata": {},
   "outputs": [
    {
     "name": "stdout",
     "output_type": "stream",
     "text": [
      "Generated embeddings: [[-0.03427842  0.09732049  0.01290111 ...  0.1057302   0.02004655\n",
      "  -0.01950257]\n",
      " [ 0.02049447 -0.08148539  0.06382781 ...  0.0004151   0.01097185\n",
      "  -0.00851156]\n",
      " [-0.02256461 -0.02677649  0.01252299 ... -0.07487489 -0.03987329\n",
      "  -0.01576395]]\n",
      "Data inserted into collection: document_embeddings\n",
      "Disconnected from Milvus\n"
     ]
    }
   ],
   "source": [
    "docs = [\n",
    "    \"This is a sample document.\",\n",
    "    \"Testing embeddings with local model.\",\n",
    "    \"Integrating RAG with LLMs and vector databases.\"\n",
    "]\n",
    "\n",
    "# Generate embeddings for the documents\n",
    "embeddings = generate_embeddings_local(docs)\n",
    "print(\"Generated embeddings:\", embeddings)\n",
    "\n",
    "# Insert embeddings into Milvus\n",
    "doc_ids = [\"doc1\", \"doc2\", \"doc3\"]\n",
    "insert_data_into_collection(collection, doc_ids, embeddings, docs)\n",
    "\n",
    "# Disconnect from Milvus\n",
    "disconnect_milvus()"
   ]
  },
  {
   "cell_type": "code",
   "execution_count": null,
   "metadata": {},
   "outputs": [],
   "source": []
  }
 ],
 "metadata": {
  "kernelspec": {
   "display_name": "Python 3 (ipykernel)",
   "language": "python",
   "name": "python3"
  },
  "language_info": {
   "codemirror_mode": {
    "name": "ipython",
    "version": 3
   },
   "file_extension": ".py",
   "mimetype": "text/x-python",
   "name": "python",
   "nbconvert_exporter": "python",
   "pygments_lexer": "ipython3",
   "version": "3.12.4"
  }
 },
 "nbformat": 4,
 "nbformat_minor": 4
}
