{
 "cells": [
  {
   "cell_type": "code",
   "execution_count": 22,
   "id": "32c5d337-f1cb-488a-8227-aab329996ba4",
   "metadata": {},
   "outputs": [],
   "source": [
    "## setup and initialization\n",
    "import os\n",
    "import re\n",
    "import nltk\n",
    "from nltk.corpus import stopwords\n",
    "from pymilvus import connections, Collection, utility, CollectionSchema, FieldSchema, DataType\n",
    "from transformers import AutoTokenizer, AutoModel\n",
    "import torch\n",
    "import numpy as np\n",
    "import itertools\n",
    "from docx import Document\n",
    "import logging\n",
    "import requests\n",
    "import json\n",
    "\n",
    "logging.basicConfig(level=logging.INFO)\n",
    "logger = logging.getLogger(__name__)\n",
    "\n"
   ]
  },
  {
   "cell_type": "code",
   "execution_count": 23,
   "id": "1f7ae3ce",
   "metadata": {},
   "outputs": [
    {
     "name": "stdout",
     "output_type": "stream",
     "text": [
      "Finnish stopwords are already downloaded.\n",
      "Stopwords are ready to use.\n",
      "Finnish stopwords setup complete.\n"
     ]
    }
   ],
   "source": [
    "# Download the Finnish STOP words\n",
    "# Ensure stopwords are downloaded\n",
    "def ensure_stopwords_downloaded(language='finnish'):\n",
    "    try:\n",
    "        stopwords.words(language)\n",
    "        print(f\"{language.capitalize()} stopwords are already downloaded.\")\n",
    "    except LookupError:\n",
    "        print(f\"{language.capitalize()} stopwords not found. Downloading...\")\n",
    "        nltk.download('stopwords')\n",
    "        print(f\"{language.capitalize()} stopwords downloaded successfully.\")\n",
    "    finally:\n",
    "        print(\"Stopwords are ready to use.\")\n",
    "\n",
    "ensure_stopwords_downloaded('finnish')\n",
    "finnish_stopwords = stopwords.words('finnish')\n",
    "print(\"Finnish stopwords setup complete.\")\n",
    "\n"
   ]
  },
  {
   "cell_type": "code",
   "execution_count": 24,
   "id": "222ed413",
   "metadata": {},
   "outputs": [
    {
     "name": "stdout",
     "output_type": "stream",
     "text": [
      "Connected to Milvus at milvus-standalone:19530\n",
      "Milvus connection established.\n"
     ]
    }
   ],
   "source": [
    "# Connect to Milvus\n",
    "MILVUS_HOST = \"milvus-standalone\"\n",
    "MILVUS_PORT = \"19530\"\n",
    "MILVUS_ALIAS = \"default\"\n",
    "\n",
    "def connect_milvus():\n",
    "    try:\n",
    "        connections.connect(alias=MILVUS_ALIAS, host=MILVUS_HOST, port=MILVUS_PORT)\n",
    "        print(f\"Connected to Milvus at {MILVUS_HOST}:{MILVUS_PORT}\")\n",
    "    except Exception as e:\n",
    "        print(f\"Failed to connect to Milvus: {e}\")\n",
    "\n",
    "connect_milvus()\n",
    "print(\"Milvus connection established.\")\n",
    "\n"
   ]
  },
  {
   "cell_type": "code",
   "execution_count": 25,
   "id": "15667a51",
   "metadata": {},
   "outputs": [
    {
     "name": "stdout",
     "output_type": "stream",
     "text": [
      "Document schema created.\n"
     ]
    }
   ],
   "source": [
    "# Create document schema\n",
    "def create_document_schema():\n",
    "    fields = [\n",
    "        FieldSchema(name=\"doc_id\", dtype=DataType.VARCHAR, max_length=100),\n",
    "        FieldSchema(name=\"chunk_id\", dtype=DataType.INT64, is_primary=True, auto_id=True),\n",
    "        FieldSchema(name=\"embedding\", dtype=DataType.FLOAT_VECTOR, dim=384),\n",
    "        FieldSchema(name=\"text\", dtype=DataType.VARCHAR, max_length=65535),\n",
    "        FieldSchema(name=\"person_name\", dtype=DataType.VARCHAR, max_length=100),\n",
    "        FieldSchema(name=\"person_age\", dtype=DataType.INT64),\n",
    "        FieldSchema(name=\"document_id\", dtype=DataType.VARCHAR, max_length=20)\n",
    "    ]\n",
    "    schema = CollectionSchema(fields=fields, description=\"Document embeddings with person metadata\")\n",
    "    return schema\n",
    "\n",
    "print(\"Document schema created.\")\n",
    "\n"
   ]
  },
  {
   "cell_type": "code",
   "execution_count": 26,
   "id": "b37f39ce",
   "metadata": {},
   "outputs": [
    {
     "name": "stdout",
     "output_type": "stream",
     "text": [
      "Collection 'document_embeddings' created!\n",
      "Document collection created and ready for use.\n"
     ]
    }
   ],
   "source": [
    "# Create document collection\n",
    "def create_document_collection():\n",
    "    schema = create_document_schema()\n",
    "    collection_name = \"document_embeddings\"\n",
    "\n",
    "    if not utility.has_collection(collection_name):\n",
    "        collection = Collection(name=collection_name, schema=schema)\n",
    "        print(f\"Collection '{collection_name}' created!\")\n",
    "    else:\n",
    "        collection = Collection(name=collection_name)\n",
    "        print(f\"Collection '{collection_name}' already exists.\")\n",
    "\n",
    "    return collection\n",
    "\n",
    "collection = create_document_collection()\n",
    "print(\"Document collection created and ready for use.\")\n",
    "\n"
   ]
  },
  {
   "cell_type": "code",
   "execution_count": 27,
   "id": "e73edc8e",
   "metadata": {},
   "outputs": [
    {
     "name": "stdout",
     "output_type": "stream",
     "text": [
      "Text processing and metadata extraction functions set up.\n"
     ]
    }
   ],
   "source": [
    "# Function to extract metadata from the filename\n",
    "def extract_metadata_from_filename(filename):\n",
    "    try:\n",
    "        title = os.path.splitext(filename)[0]\n",
    "        match = re.match(r'([A-Za-z]+)\\s+(\\d{1,3})v\\s+([A-Za-z0-9\\-]+)', title)\n",
    "        if match:\n",
    "            name = match.group(1)\n",
    "            age = int(match.group(2))\n",
    "            doc_id = match.group(3)\n",
    "            print(f\"Metadata extracted: Name = {name}, Age = {age}, Document ID = {doc_id}\")\n",
    "            return name, age, doc_id\n",
    "        else:\n",
    "            print(f\"Failed to extract metadata from: {filename}\")\n",
    "            return None, None, None\n",
    "    except Exception as e:\n",
    "        print(f\"Error while extracting metadata: {e}\")\n",
    "        return None, None, None\n",
    "\n",
    "# Function to extract text from a .docx file\n",
    "def extract_text_from_docx(file_path):\n",
    "    try:\n",
    "        doc = Document(file_path)\n",
    "        text = \"\\n\".join([para.text for para in doc.paragraphs])\n",
    "        print(f\"Text extracted from {file_path}\")\n",
    "        return text\n",
    "    except Exception as e:\n",
    "        print(f\"Failed to extract text: {e}\")\n",
    "        return \"\"\n",
    "\n",
    "print(\"Text processing and metadata extraction functions set up.\")\n",
    "\n"
   ]
  },
  {
   "cell_type": "code",
   "execution_count": 28,
   "id": "c3b5604e",
   "metadata": {},
   "outputs": [],
   "source": [
    "# Disable text preprocessing temporarily for debugging\n",
    "def preprocess_text(text):\n",
    "    try:\n",
    "        text = text.lower()\n",
    "        text = re.sub(r'\\W+', ' ', text)\n",
    "        return text\n",
    "    except Exception as e:\n",
    "        print(f\"Failed to preprocess text: {e}\")\n",
    "        return text\n",
    "\n",
    "def chunk_text(text, chunk_size=512):\n",
    "    try:\n",
    "        words = text.split()\n",
    "        chunks = [' '.join(words[i:i + chunk_size]) for i in range(0, len(words), chunk_size)]\n",
    "        print(f\"Text split into {len(chunks)} chunks.\")\n",
    "        print(\"Text chunking successful.\")\n",
    "        return chunks\n",
    "    except Exception as e:\n",
    "        print(f\"Failed to chunk text: {e}\")\n",
    "        return []\n",
    "\n",
    "\n"
   ]
  },
  {
   "cell_type": "code",
   "execution_count": 29,
   "id": "22a4f475",
   "metadata": {},
   "outputs": [
    {
     "name": "stderr",
     "output_type": "stream",
     "text": [
      "/opt/conda/lib/python3.11/site-packages/huggingface_hub/file_download.py:1142: FutureWarning: `resume_download` is deprecated and will be removed in version 1.0.0. Downloads always resume when possible. If you want to force a new download, use `force_download=True`.\n",
      "  warnings.warn(\n",
      "INFO:__main__:Embedding model and tokenizer loaded successfully.\n"
     ]
    },
    {
     "name": "stdout",
     "output_type": "stream",
     "text": [
      "Embedding model and tokenizer loaded.\n"
     ]
    }
   ],
   "source": [
    "# Load embedding model and tokenizer\n",
    "EMBEDDING_MODEL_NAME = 'sentence-transformers/paraphrase-multilingual-MiniLM-L12-v2'\n",
    "embedding_tokenizer = AutoTokenizer.from_pretrained(EMBEDDING_MODEL_NAME)\n",
    "embedding_model = AutoModel.from_pretrained(EMBEDDING_MODEL_NAME)\n",
    "embedding_model.eval()\n",
    "logger.info(\"Embedding model and tokenizer loaded successfully.\")\n",
    "print(\"Embedding model and tokenizer loaded.\")\n",
    "\n"
   ]
  },
  {
   "cell_type": "code",
   "execution_count": 30,
   "id": "3dc9e8f6",
   "metadata": {},
   "outputs": [
    {
     "name": "stdout",
     "output_type": "stream",
     "text": [
      "Embedding generation function ready.\n"
     ]
    }
   ],
   "source": [
    "# Generate embeddings\n",
    "def batched(iterable, n):\n",
    "    it = iter(iterable)\n",
    "    while batch := list(itertools.islice(it, n)):\n",
    "        yield batch\n",
    "\n",
    "def generate_embeddings_local(texts, max_batch_size=32):\n",
    "    try:\n",
    "        embeddings = []\n",
    "        for batch in batched(texts, max_batch_size):\n",
    "            inputs = embedding_tokenizer(\n",
    "                batch,\n",
    "                padding=True,\n",
    "                truncation=True,\n",
    "                return_tensors=\"pt\",\n",
    "                max_length=512,\n",
    "            )\n",
    "            with torch.no_grad():\n",
    "                outputs = embedding_model(**inputs)\n",
    "            batch_embeddings = outputs.last_hidden_state.mean(dim=1)\n",
    "            batch_embeddings = torch.nn.functional.normalize(batch_embeddings, p=2, dim=1)\n",
    "            embeddings.append(batch_embeddings.cpu())\n",
    "        embeddings = torch.cat(embeddings)\n",
    "        return embeddings.numpy().astype(np.float32)\n",
    "    except Exception as e:\n",
    "        logger.error(f\"Failed to generate embeddings: {e}\")\n",
    "        return None\n",
    "print(\"Embedding generation function ready.\")\n",
    "\n"
   ]
  },
  {
   "cell_type": "code",
   "execution_count": 31,
   "id": "b32e7d4d",
   "metadata": {},
   "outputs": [
    {
     "name": "stdout",
     "output_type": "stream",
     "text": [
      "Data insertion and indexing functions are ready.\n"
     ]
    }
   ],
   "source": [
    "# Insert data into Milvus\n",
    "def insert_data_with_metadata(collection, doc_ids, embeddings, texts, person_name, person_age, document_id):\n",
    "    collection.insert([doc_ids, embeddings.tolist(), texts, [person_name]*len(doc_ids), \n",
    "                       [person_age]*len(doc_ids), [document_id]*len(doc_ids)])\n",
    "    collection.flush()\n",
    "\n",
    "# Create and load index after data insertion\n",
    "def create_and_load_index(collection):\n",
    "    index_params = {\"index_type\": \"IVF_FLAT\", \"metric_type\": \"IP\", \"params\": {\"nlist\": 1024}}\n",
    "    collection.create_index(field_name=\"embedding\", index_params=index_params)\n",
    "    collection.load()\n",
    "\n",
    "print(\"Data insertion and indexing functions are ready.\")\n",
    "\n"
   ]
  },
  {
   "cell_type": "code",
   "execution_count": 32,
   "id": "4dac85fd",
   "metadata": {},
   "outputs": [
    {
     "name": "stdout",
     "output_type": "stream",
     "text": [
      "Metadata extracted: Name = Eila, Age = 81, Document ID = SH-4\n",
      "Text extracted from /home/jovyan/work/notebooks/data/Eila 81v SH-4.docx\n",
      "Text split into 1 chunks.\n",
      "Text chunking successful.\n",
      "Metadata extracted: Name = Sulo, Age = 75, Document ID = C5-50\n",
      "Text extracted from /home/jovyan/work/notebooks/data/Sulo 75v C5-50.docx\n",
      "Text split into 1 chunks.\n",
      "Text chunking successful.\n",
      "Data processing and insertion completed.\n"
     ]
    }
   ],
   "source": [
    "# Process and insert documents\n",
    "folder_path = '/home/jovyan/work/notebooks/data/'\n",
    "file_paths = [f for f in os.listdir(folder_path) if f.endswith('.docx')]\n",
    "\n",
    "for file in file_paths:\n",
    "    name, age, doc_id = extract_metadata_from_filename(file)\n",
    "    file_path = os.path.join(folder_path, file)\n",
    "    extracted_text = extract_text_from_docx(file_path)\n",
    "    cleaned_text = preprocess_text(extracted_text)\n",
    "    chunks = chunk_text(cleaned_text)\n",
    "\n",
    "    embeddings = generate_embeddings_local(chunks)\n",
    "    doc_ids = [f\"{doc_id}_chunk_{i+1}\" for i in range(len(chunks))]\n",
    "    insert_data_with_metadata(collection, doc_ids, embeddings, chunks, name, age, doc_id)\n",
    "\n",
    "create_and_load_index(collection)\n",
    "print(\"Data processing and insertion completed.\")\n",
    "\n"
   ]
  },
  {
   "cell_type": "code",
   "execution_count": 34,
   "id": "30c5643c",
   "metadata": {},
   "outputs": [
    {
     "name": "stdout",
     "output_type": "stream",
     "text": [
      "Collection 'document_embeddings' contains 2 entities.\n",
      "Collection entities checked.\n"
     ]
    }
   ],
   "source": [
    "# Check collection entities\n",
    "def check_collection_entities(collection_name=\"document_embeddings\"):\n",
    "    collection = Collection(name=collection_name)\n",
    "    entity_count = collection.num_entities\n",
    "    print(f\"Collection '{collection_name}' contains {entity_count} entities.\")\n",
    "    return entity_count\n",
    "\n",
    "check_collection_entities()\n",
    "print(\"Collection entities checked.\")\n",
    "\n"
   ]
  },
  {
   "cell_type": "code",
   "execution_count": 35,
   "id": "b10ee68f",
   "metadata": {},
   "outputs": [
    {
     "name": "stdout",
     "output_type": "stream",
     "text": [
      "Search functions are ready.\n"
     ]
    }
   ],
   "source": [
    "## Querying and search functions\n",
    "OLLAMA_URL = \"http://ollama:11434/api/generate\"\n",
    "\n",
    "## llama3.2 tested and it is quite ok but needs further consideration sepcially with output\n",
    "## example output for the llama3.2 :\n",
    "## \n",
    "## testing mistral:7b\n",
    "\n",
    "def query_ollama(prompt, model=\"mistral:7b\"):\n",
    "    headers = {\n",
    "        \"Content-Type\": \"application/json\"\n",
    "    }\n",
    "    data = {\n",
    "        \"model\": model,\n",
    "        \"prompt\": prompt\n",
    "    }\n",
    "\n",
    "    with requests.post(OLLAMA_URL, headers=headers, json=data, stream=True) as response:\n",
    "        if response.status_code == 200:\n",
    "            result_text = \"\"\n",
    "            for chunk in response.iter_lines(decode_unicode=True):\n",
    "                if chunk:  # Filter out keep-alive new chunks\n",
    "                    try:\n",
    "                        chunk_data = json.loads(chunk)\n",
    "                        result_text += chunk_data.get(\"response\", \"\")\n",
    "                    except json.JSONDecodeError:\n",
    "                        print(f\"Failed to parse chunk: {chunk}\")\n",
    "            return result_text\n",
    "        else:\n",
    "            print(f\"Error querying Ollama: {response.status_code}, {response.text}\")\n",
    "            return None\n",
    "\n",
    "def generate_query_embedding(query):\n",
    "    inputs = embedding_tokenizer(query, padding=True, truncation=True, return_tensors=\"pt\", max_length=512)\n",
    "    with torch.no_grad():\n",
    "        outputs = embedding_model(**inputs)\n",
    "    query_embedding = outputs.last_hidden_state.mean(dim=1)\n",
    "    query_embedding = torch.nn.functional.normalize(query_embedding, p=2, dim=1)\n",
    "    return query_embedding.cpu().numpy().astype(np.float32)\n",
    "\n",
    "def search_similar_documents(query_embedding, collection_name=\"document_embeddings\", top_k=5):\n",
    "    query_embedding = query_embedding.astype(np.float32)\n",
    "    collection = Collection(name=collection_name)\n",
    "\n",
    "    search_params = {\"metric_type\": \"IP\", \"params\": {\"nprobe\": 10}}\n",
    "\n",
    "    try:\n",
    "        results = collection.search(\n",
    "            data=query_embedding.tolist(),\n",
    "            anns_field=\"embedding\",\n",
    "            param=search_params,\n",
    "            limit=top_k,\n",
    "            output_fields=[\"text\", \"person_name\", \"person_age\", \"document_id\"]\n",
    "        )\n",
    "        \n",
    "        if not results or len(results[0]) == 0:\n",
    "            print(\"No relevant documents found in Milvus.\")\n",
    "            return None\n",
    "\n",
    "        relevant_texts = []\n",
    "        for result in results[0]:\n",
    "            document_id = result.entity.get(\"document_id\")\n",
    "            text_snippet = result.entity.get(\"text\")[:300]\n",
    "            person_name = result.entity.get(\"person_name\")\n",
    "            person_age = result.entity.get(\"person_age\")\n",
    "            print(f\"Score: {result.score}, Document ID: {document_id}, Name: {person_name}, Age: {person_age}\")\n",
    "            print(f\"Text: {text_snippet}...\\n\")\n",
    "            relevant_texts.append(result.entity.get(\"text\"))\n",
    "\n",
    "        return relevant_texts\n",
    "    except Exception as e:\n",
    "        print(f\"Error during search: {e}\")\n",
    "        return None\n",
    "print(\"Search functions are ready.\")\n",
    "\n"
   ]
  },
  {
   "cell_type": "code",
   "execution_count": 39,
   "id": "0fc09f98",
   "metadata": {},
   "outputs": [],
   "source": [
    "# Function to generate query embedding\n",
    "def get_query_embedding(query):\n",
    "    query_embedding = generate_query_embedding(query)\n",
    "    if query_embedding is not None and query_embedding.size > 0:  # Check if the embedding is not empty\n",
    "        print(f\"Query embedding for '{query}' generated successfully.\")\n",
    "    else:\n",
    "        print(f\"Failed to generate query embedding for '{query}'.\")\n",
    "    return query_embedding\n",
    "\n",
    "# Function to search Milvus\n",
    "def search_milvus(query_embedding, collection_name=\"document_embeddings\", top_k=5):\n",
    "    top_results = search_similar_documents(query_embedding, collection_name, top_k)\n",
    "    if top_results:\n",
    "        relevant_texts = \" \".join(top_results).strip()\n",
    "        if not relevant_texts:\n",
    "            print(\"No relevant context found in Milvus.\")\n",
    "        return relevant_texts\n",
    "    else:\n",
    "        print(\"No top results found in Milvus for the query.\")\n",
    "        return None\n",
    "\n",
    "# Function to query Ollama with retrieved context\n",
    "def query_ollama_with_context(query, context):\n",
    "    prompt_template = \"\"\"\n",
    "    Sinulle on annettu seuraava teksti:\n",
    "\n",
    "    {context}\n",
    "\n",
    "    Vastaa seuraavaan kysymykseen perustuen yllä olevaan tekstiin:\n",
    "\n",
    "    {question}\n",
    "    \"\"\"\n",
    "    prompt = prompt_template.format(context=context, question=query)\n",
    "    print(f\"Prompt sent to LLM:\\n{prompt}\")\n",
    "\n",
    "    response = query_ollama(prompt)\n",
    "    if response:\n",
    "        print(f\"Ollama response for '{query}' received successfully.\")\n",
    "    else:\n",
    "        response = \"I don't know, the information is not provided in the documents.\"\n",
    "        print(f\"Failed to get response from Ollama for '{query}', returning fallback.\")\n",
    "    return response\n",
    "\n",
    "\n",
    "## Main function to process the entire query pipeline\n",
    "def process_query(question):\n",
    "    # Step 1: Generate embedding for the question\n",
    "    query_embedding = get_query_embedding(question)\n",
    "    \n",
    "    # Use .size > 0 to check if the array is not empty\n",
    "    if query_embedding is not None and query_embedding.size > 0:\n",
    "        # Step 2: Search for relevant documents in Milvus\n",
    "        relevant_texts = search_milvus(query_embedding)\n",
    "        \n",
    "        if relevant_texts:\n",
    "            # Step 3: Query Ollama for the final answer based on context\n",
    "            ollama_response = query_ollama_with_context(question, relevant_texts)\n",
    "            print(f\"Ollama Response: {ollama_response}\")\n",
    "        else:\n",
    "            print(\"No relevant context found for the query. Returning fallback response.\")\n",
    "            print(\"Ollama Response: I don't know, the information is not provided in the documents.\")\n",
    "    else:\n",
    "        print(\"Failed to generate a valid query embedding. Returning fallback response.\")\n",
    "\n",
    "\n",
    "        "
   ]
  },
  {
   "cell_type": "code",
   "execution_count": 40,
   "id": "45b343f9-7c00-4731-b83c-49a890e4b526",
   "metadata": {},
   "outputs": [
    {
     "name": "stdout",
     "output_type": "stream",
     "text": [
      "Query embedding for 'Missä 81-vuotias nainen asuu?' generated successfully.\n",
      "Score: 0.20528644323349, Document ID: C5-50, Name: Sulo, Age: 75\n",
      "Text: tunnistetieto c5 50 haastattelun päivämäärä 22 6 23 syntymävuosi 1948 75 sukupuoli mies kansalaisuus suomi maakunta keski pohjanmaa talotyyppi muu tuettu palveluasuminen asiasanat trauma sosiaalisuus arjen kuvaus oikeanpuoleinen heikkouteni ja jäykkyyteni hankaloittaa toimintaani mutta pystyn itse k...\n",
      "\n",
      "Score: 0.15264736115932465, Document ID: SH-4, Name: Eila, Age: 81\n",
      "Text: syntymävuosi 1942 81v sukupuoli nainen kansalaisuus suomi maakunta uusimaa talotyyppi ryhmäkoti omannäköinen arki arjessa teen milloin mitäkin arjen kohokohtia ovat tapaamiset omaisten kanssa toivon että omaiset pitävät hyvänä minua saan nimenomaan elää omannäköistä elämää ja päättää omista asioista...\n",
      "\n",
      "Prompt sent to LLM:\n",
      "\n",
      "    Sinulle on annettu seuraava teksti:\n",
      "\n",
      "    tunnistetieto c5 50 haastattelun päivämäärä 22 6 23 syntymävuosi 1948 75 sukupuoli mies kansalaisuus suomi maakunta keski pohjanmaa talotyyppi muu tuettu palveluasuminen asiasanat trauma sosiaalisuus arjen kuvaus oikeanpuoleinen heikkouteni ja jäykkyyteni hankaloittaa toimintaani mutta pystyn itse kävelemään rollaattorilla minulla on pieniä vaikeuksia puhua mutta tykkään jutella muiden asukkaiden kanssa ruokailut tapahtuvat yhteisessä tilassa yritän kävellä säännöllisesti asumisyksikön tiloissa osallistun yksikössä järjestettäviin aktiviteetteihin täällä oleskelu tuo turvallisuutta saan apua tarvittaessa lähipiiri minulla on neljä sisarusta digitaaliset laitteet minulla on käytössä perinteinen kännykkä se on helppo käyttää asuminen olen asunut tässä asumisyksikössä useamman vuoden elämän käännekohdat olen nuorena ollut auto onnettomuudessa tämän seurauksena sain vammoja ja minulle jäi afasia olin aloittanut tätä ennen opiskelut menetin haaveammattini suunnitelmat lopuksi koen että on tärkeää saada sosiaalista kanssakäymistä silloin päivä menee hyvin syntymävuosi 1942 81v sukupuoli nainen kansalaisuus suomi maakunta uusimaa talotyyppi ryhmäkoti omannäköinen arki arjessa teen milloin mitäkin arjen kohokohtia ovat tapaamiset omaisten kanssa toivon että omaiset pitävät hyvänä minua saan nimenomaan elää omannäköistä elämää ja päättää omista asioistani tottakai milloin rupattelen kenenkin kanssa ja mitä marjatta on minun ystäväni en ole terveydessä huomannut ongelmia mitä nyt flunssaa on ollut musiikista pidän ja kahvista on mukavaa kun kysytään kävelylle tai kauppaan mukaan raha asiat huolettavat ja välillä on epäkuntoisia päiviä kuten hammassärkyä joskus koen yksinäisyyttä jos ei ole määrätynlainen ihminen lähelläkään olen muutaman vuoden asunut tässä ryhmäkodissa olen tyytyväinen kotiini en ole ajatellut muuttaa täältä saan kaiken mitä tarvitsen joskus käyn kävelyllä rollaattorilla silloin kun huvittaa niin lähden ulos ja kun huvittaa niin tulen kotiin läheinen omainen on tärkeä elämässä jos käy kaupassa tai ulkona niin omainen on siinä tärkeä jos ei ystävälle sovi lähteä kanssani ulos ja on tärkeää mennä lähden yksin tärkeitä henkilöitä on ystäväni marjatta ja tietysti aviomies tärkeimmät omaiset harrastan milloin mitäkin mielelläni tykkään mennä tanssimaan ystävyys on kaikkein tärkein asia onhan niitä jotain käännekohtia elämässä sattunut mutta en nyt muista alkoholia en ole käyttänyt muuta kuin suurissa juhlissa juhlan kunniaksi\n",
      "\n",
      "    Vastaa seuraavaan kysymykseen perustuen yllä olevaan tekstiin:\n",
      "\n",
      "    Missä 81-vuotias nainen asuu?\n",
      "    \n",
      "Ollama response for 'Missä 81-vuotias nainen asuu?' received successfully.\n",
      "Ollama Response: 81-vuotias nainen asuu Suomessa, Uusimaassa.\n"
     ]
    }
   ],
   "source": [
    "# Example 3\n",
    "question_3 = \"Missä 81-vuotias nainen asuu?\"\n",
    "process_query(question_3)\n"
   ]
  },
  {
   "cell_type": "code",
   "execution_count": 41,
   "id": "69b3ac91-0715-4ed9-b78b-bc768c69947f",
   "metadata": {},
   "outputs": [
    {
     "name": "stdout",
     "output_type": "stream",
     "text": [
      "Query embedding for 'Mikä on 81-vuotiaan naisen kansalaisuus?' generated successfully.\n",
      "Score: 0.2212529480457306, Document ID: C5-50, Name: Sulo, Age: 75\n",
      "Text: tunnistetieto c5 50 haastattelun päivämäärä 22 6 23 syntymävuosi 1948 75 sukupuoli mies kansalaisuus suomi maakunta keski pohjanmaa talotyyppi muu tuettu palveluasuminen asiasanat trauma sosiaalisuus arjen kuvaus oikeanpuoleinen heikkouteni ja jäykkyyteni hankaloittaa toimintaani mutta pystyn itse k...\n",
      "\n",
      "Score: 0.11063401401042938, Document ID: SH-4, Name: Eila, Age: 81\n",
      "Text: syntymävuosi 1942 81v sukupuoli nainen kansalaisuus suomi maakunta uusimaa talotyyppi ryhmäkoti omannäköinen arki arjessa teen milloin mitäkin arjen kohokohtia ovat tapaamiset omaisten kanssa toivon että omaiset pitävät hyvänä minua saan nimenomaan elää omannäköistä elämää ja päättää omista asioista...\n",
      "\n",
      "Prompt sent to LLM:\n",
      "\n",
      "    Sinulle on annettu seuraava teksti:\n",
      "\n",
      "    tunnistetieto c5 50 haastattelun päivämäärä 22 6 23 syntymävuosi 1948 75 sukupuoli mies kansalaisuus suomi maakunta keski pohjanmaa talotyyppi muu tuettu palveluasuminen asiasanat trauma sosiaalisuus arjen kuvaus oikeanpuoleinen heikkouteni ja jäykkyyteni hankaloittaa toimintaani mutta pystyn itse kävelemään rollaattorilla minulla on pieniä vaikeuksia puhua mutta tykkään jutella muiden asukkaiden kanssa ruokailut tapahtuvat yhteisessä tilassa yritän kävellä säännöllisesti asumisyksikön tiloissa osallistun yksikössä järjestettäviin aktiviteetteihin täällä oleskelu tuo turvallisuutta saan apua tarvittaessa lähipiiri minulla on neljä sisarusta digitaaliset laitteet minulla on käytössä perinteinen kännykkä se on helppo käyttää asuminen olen asunut tässä asumisyksikössä useamman vuoden elämän käännekohdat olen nuorena ollut auto onnettomuudessa tämän seurauksena sain vammoja ja minulle jäi afasia olin aloittanut tätä ennen opiskelut menetin haaveammattini suunnitelmat lopuksi koen että on tärkeää saada sosiaalista kanssakäymistä silloin päivä menee hyvin syntymävuosi 1942 81v sukupuoli nainen kansalaisuus suomi maakunta uusimaa talotyyppi ryhmäkoti omannäköinen arki arjessa teen milloin mitäkin arjen kohokohtia ovat tapaamiset omaisten kanssa toivon että omaiset pitävät hyvänä minua saan nimenomaan elää omannäköistä elämää ja päättää omista asioistani tottakai milloin rupattelen kenenkin kanssa ja mitä marjatta on minun ystäväni en ole terveydessä huomannut ongelmia mitä nyt flunssaa on ollut musiikista pidän ja kahvista on mukavaa kun kysytään kävelylle tai kauppaan mukaan raha asiat huolettavat ja välillä on epäkuntoisia päiviä kuten hammassärkyä joskus koen yksinäisyyttä jos ei ole määrätynlainen ihminen lähelläkään olen muutaman vuoden asunut tässä ryhmäkodissa olen tyytyväinen kotiini en ole ajatellut muuttaa täältä saan kaiken mitä tarvitsen joskus käyn kävelyllä rollaattorilla silloin kun huvittaa niin lähden ulos ja kun huvittaa niin tulen kotiin läheinen omainen on tärkeä elämässä jos käy kaupassa tai ulkona niin omainen on siinä tärkeä jos ei ystävälle sovi lähteä kanssani ulos ja on tärkeää mennä lähden yksin tärkeitä henkilöitä on ystäväni marjatta ja tietysti aviomies tärkeimmät omaiset harrastan milloin mitäkin mielelläni tykkään mennä tanssimaan ystävyys on kaikkein tärkein asia onhan niitä jotain käännekohtia elämässä sattunut mutta en nyt muista alkoholia en ole käyttänyt muuta kuin suurissa juhlissa juhlan kunniaksi\n",
      "\n",
      "    Vastaa seuraavaan kysymykseen perustuen yllä olevaan tekstiin:\n",
      "\n",
      "    Mikä on 81-vuotiaan naisen kansalaisuus?\n",
      "    \n",
      "Ollama response for 'Mikä on 81-vuotiaan naisen kansalaisuus?' received successfully.\n",
      "Ollama Response:  Suomalainen.\n"
     ]
    }
   ],
   "source": [
    "#Example Query\n",
    "question_1 = \"Mikä on 81-vuotiaan naisen kansalaisuus?\"\n",
    "process_query(question_1)"
   ]
  },
  {
   "cell_type": "code",
   "execution_count": 42,
   "id": "68fa8fa0-1d08-44b6-aa55-7af9a226e54c",
   "metadata": {},
   "outputs": [
    {
     "name": "stdout",
     "output_type": "stream",
     "text": [
      "Query embedding for 'Mitä kieliä 75-vuotias mies puhuu?' generated successfully.\n",
      "Score: 0.3213534951210022, Document ID: C5-50, Name: Sulo, Age: 75\n",
      "Text: tunnistetieto c5 50 haastattelun päivämäärä 22 6 23 syntymävuosi 1948 75 sukupuoli mies kansalaisuus suomi maakunta keski pohjanmaa talotyyppi muu tuettu palveluasuminen asiasanat trauma sosiaalisuus arjen kuvaus oikeanpuoleinen heikkouteni ja jäykkyyteni hankaloittaa toimintaani mutta pystyn itse k...\n",
      "\n",
      "Score: 0.24913422763347626, Document ID: SH-4, Name: Eila, Age: 81\n",
      "Text: syntymävuosi 1942 81v sukupuoli nainen kansalaisuus suomi maakunta uusimaa talotyyppi ryhmäkoti omannäköinen arki arjessa teen milloin mitäkin arjen kohokohtia ovat tapaamiset omaisten kanssa toivon että omaiset pitävät hyvänä minua saan nimenomaan elää omannäköistä elämää ja päättää omista asioista...\n",
      "\n",
      "Prompt sent to LLM:\n",
      "\n",
      "    Sinulle on annettu seuraava teksti:\n",
      "\n",
      "    tunnistetieto c5 50 haastattelun päivämäärä 22 6 23 syntymävuosi 1948 75 sukupuoli mies kansalaisuus suomi maakunta keski pohjanmaa talotyyppi muu tuettu palveluasuminen asiasanat trauma sosiaalisuus arjen kuvaus oikeanpuoleinen heikkouteni ja jäykkyyteni hankaloittaa toimintaani mutta pystyn itse kävelemään rollaattorilla minulla on pieniä vaikeuksia puhua mutta tykkään jutella muiden asukkaiden kanssa ruokailut tapahtuvat yhteisessä tilassa yritän kävellä säännöllisesti asumisyksikön tiloissa osallistun yksikössä järjestettäviin aktiviteetteihin täällä oleskelu tuo turvallisuutta saan apua tarvittaessa lähipiiri minulla on neljä sisarusta digitaaliset laitteet minulla on käytössä perinteinen kännykkä se on helppo käyttää asuminen olen asunut tässä asumisyksikössä useamman vuoden elämän käännekohdat olen nuorena ollut auto onnettomuudessa tämän seurauksena sain vammoja ja minulle jäi afasia olin aloittanut tätä ennen opiskelut menetin haaveammattini suunnitelmat lopuksi koen että on tärkeää saada sosiaalista kanssakäymistä silloin päivä menee hyvin syntymävuosi 1942 81v sukupuoli nainen kansalaisuus suomi maakunta uusimaa talotyyppi ryhmäkoti omannäköinen arki arjessa teen milloin mitäkin arjen kohokohtia ovat tapaamiset omaisten kanssa toivon että omaiset pitävät hyvänä minua saan nimenomaan elää omannäköistä elämää ja päättää omista asioistani tottakai milloin rupattelen kenenkin kanssa ja mitä marjatta on minun ystäväni en ole terveydessä huomannut ongelmia mitä nyt flunssaa on ollut musiikista pidän ja kahvista on mukavaa kun kysytään kävelylle tai kauppaan mukaan raha asiat huolettavat ja välillä on epäkuntoisia päiviä kuten hammassärkyä joskus koen yksinäisyyttä jos ei ole määrätynlainen ihminen lähelläkään olen muutaman vuoden asunut tässä ryhmäkodissa olen tyytyväinen kotiini en ole ajatellut muuttaa täältä saan kaiken mitä tarvitsen joskus käyn kävelyllä rollaattorilla silloin kun huvittaa niin lähden ulos ja kun huvittaa niin tulen kotiin läheinen omainen on tärkeä elämässä jos käy kaupassa tai ulkona niin omainen on siinä tärkeä jos ei ystävälle sovi lähteä kanssani ulos ja on tärkeää mennä lähden yksin tärkeitä henkilöitä on ystäväni marjatta ja tietysti aviomies tärkeimmät omaiset harrastan milloin mitäkin mielelläni tykkään mennä tanssimaan ystävyys on kaikkein tärkein asia onhan niitä jotain käännekohtia elämässä sattunut mutta en nyt muista alkoholia en ole käyttänyt muuta kuin suurissa juhlissa juhlan kunniaksi\n",
      "\n",
      "    Vastaa seuraavaan kysymykseen perustuen yllä olevaan tekstiin:\n",
      "\n",
      "    Mitä kieliä 75-vuotias mies puhuu?\n",
      "    \n",
      "Ollama response for 'Mitä kieliä 75-vuotias mies puhuu?' received successfully.\n",
      "Ollama Response:  Suomi (Finnish)\n"
     ]
    }
   ],
   "source": [
    "# Example \n",
    "question_2 = \"Mitä kieliä 75-vuotias mies puhuu?\"\n",
    "process_query(question_2)"
   ]
  }
 ],
 "metadata": {
  "kernelspec": {
   "display_name": "Python 3 (ipykernel)",
   "language": "python",
   "name": "python3"
  },
  "language_info": {
   "codemirror_mode": {
    "name": "ipython",
    "version": 3
   },
   "file_extension": ".py",
   "mimetype": "text/x-python",
   "name": "python",
   "nbconvert_exporter": "python",
   "pygments_lexer": "ipython3",
   "version": "3.11.6"
  }
 },
 "nbformat": 4,
 "nbformat_minor": 5
}
